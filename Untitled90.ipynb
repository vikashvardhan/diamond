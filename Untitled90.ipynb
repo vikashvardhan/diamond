{
 "cells": [
  {
   "cell_type": "code",
   "execution_count": 10,
   "id": "990fac57",
   "metadata": {},
   "outputs": [],
   "source": [
    "#create file\n",
    "f = open(\"example.txt\" , \"w\")\n",
    "#write text in file\n",
    "f.write(\"This is a placement assignment\")\n",
    "#close file\n",
    "f.close()\n",
    "    \n",
    "    "
   ]
  },
  {
   "cell_type": "code",
   "execution_count": 11,
   "id": "e979bf0e",
   "metadata": {},
   "outputs": [
    {
     "name": "stdout",
     "output_type": "stream",
     "text": [
      "Text replaced\n"
     ]
    }
   ],
   "source": [
    "\n",
    "# Importing re module\n",
    "import re\n",
    "  \n",
    "# Creating a function to\n",
    "# replace the text\n",
    "def replacetext(search_text,replace_text):\n",
    "  \n",
    "    # Opening the file in read and write mode\n",
    "    with open('example.txt','r+') as f:\n",
    "  \n",
    "        # Reading the file data and store\n",
    "        # it in a file variable\n",
    "        file = f.read()\n",
    "          \n",
    "        # Replacing the pattern with the string\n",
    "        # in the file data\n",
    "        file = re.sub(search_text, replace_text, file)\n",
    "  \n",
    "        # Setting the position to the top\n",
    "        # of the page to insert data\n",
    "        f.seek(0)\n",
    "          \n",
    "        # Writing replaced data in the file\n",
    "        f.write(file)\n",
    "  \n",
    "        # Truncating the file size\n",
    "        f.truncate()\n",
    "  \n",
    "    # Return \"Text replaced\" string\n",
    "    return \"Text replaced\"\n",
    "  \n",
    "# Creating a variable and storing\n",
    "# the text that we want to search\n",
    "search_text = \"dummy\"\n",
    "  \n",
    "#Creating a variable and storing\n",
    "# the text that we want to update\n",
    "replace_text = \"replaced\"\n",
    "  \n",
    "\n",
    "print(replacetext(search_text,replace_text))"
   ]
  },
  {
   "cell_type": "code",
   "execution_count": 13,
   "id": "46604d3f",
   "metadata": {},
   "outputs": [
    {
     "data": {
      "text/plain": [
       "'Text replaced'"
      ]
     },
     "execution_count": 13,
     "metadata": {},
     "output_type": "execute_result"
    }
   ],
   "source": [
    "replacetext('placement' , 'screening')"
   ]
  },
  {
   "cell_type": "code",
   "execution_count": null,
   "id": "d21490c7",
   "metadata": {},
   "outputs": [],
   "source": []
  }
 ],
 "metadata": {
  "kernelspec": {
   "display_name": "Python 3.9.7 64-bit ('base': conda)",
   "language": "python",
   "name": "python397jvsc74a57bd096bf9433facf5b2545990d5a9e44c667985380951f158b8c811f3b474fcee73e"
  },
  "language_info": {
   "codemirror_mode": {
    "name": "ipython",
    "version": 3
   },
   "file_extension": ".py",
   "mimetype": "text/x-python",
   "name": "python",
   "nbconvert_exporter": "python",
   "pygments_lexer": "ipython3",
   "version": "3.9.7"
  }
 },
 "nbformat": 4,
 "nbformat_minor": 5
}
